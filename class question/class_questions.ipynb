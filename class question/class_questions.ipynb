{
  "nbformat": 4,
  "nbformat_minor": 0,
  "metadata": {
    "colab": {
      "provenance": []
    },
    "kernelspec": {
      "name": "python3",
      "display_name": "Python 3"
    },
    "language_info": {
      "name": "python"
    }
  },
  "cells": [
    {
      "cell_type": "code",
      "source": [
        "a= list(input(\"enter a list\"))\n",
        "print(a[::-1])\n",
        "\n",
        "     "
      ],
      "metadata": {
        "colab": {
          "base_uri": "https://localhost:8080/"
        },
        "id": "y3crVX9gW1w9",
        "outputId": "1e2f3bbf-8556-42b7-8f64-8cc30d382a84"
      },
      "execution_count": null,
      "outputs": [
        {
          "output_type": "stream",
          "name": "stdout",
          "text": [
            "enter a list5 2 3 1\n",
            "['1', ' ', '3', ' ', '2', ' ', '5']\n"
          ]
        }
      ]
    },
    {
      "cell_type": "code",
      "source": [
        "a=list(input(\"enter the list\"))\n",
        "b=list(input(\"enter the list\"))\n",
        "c=[]\n",
        "for i in range(0,len(a)):\n",
        "  c.append(a[i])\n",
        "  c.append(b[i])\n",
        "print(c)"
      ],
      "metadata": {
        "id": "wY6Ty6hhbnt1",
        "colab": {
          "base_uri": "https://localhost:8080/"
        },
        "outputId": "0c14fbfb-98a3-4a43-ee6f-f3a270dbbe95"
      },
      "execution_count": null,
      "outputs": [
        {
          "output_type": "stream",
          "name": "stdout",
          "text": [
            "enter the listaaa\n",
            "enter the listvvv\n",
            "['a', 'v', 'a', 'v', 'a', 'v']\n"
          ]
        }
      ]
    },
    {
      "cell_type": "code",
      "source": [
        "a=list(input(\"enter the list\"))\n",
        "c=[]\n",
        "for i in range(0,len(a)):\n",
        "  a[i]=int(a[i])\n",
        "  c.append(a[i]*a[i])\n",
        "print(c)"
      ],
      "metadata": {
        "colab": {
          "base_uri": "https://localhost:8080/"
        },
        "id": "o_HzWukGZ7SF",
        "outputId": "b1a88a1d-23b5-421f-bfef-d02a98026c4d"
      },
      "execution_count": null,
      "outputs": [
        {
          "output_type": "stream",
          "name": "stdout",
          "text": [
            "enter the list254\n",
            "[4, 25, 16]\n"
          ]
        }
      ]
    },
    {
      "cell_type": "code",
      "source": [
        "a=list(input(\"enter a list \"))\n",
        "for i in range(0,len(a)):\n",
        "  a.pop()\n",
        "print(a)"
      ],
      "metadata": {
        "colab": {
          "base_uri": "https://localhost:8080/"
        },
        "id": "8xpaHfvybzat",
        "outputId": "6865f41f-3ca0-4d7e-8f19-d2f170f639f7"
      },
      "execution_count": null,
      "outputs": [
        {
          "output_type": "stream",
          "name": "stdout",
          "text": [
            "enter a list adithyan\n",
            "[]\n"
          ]
        }
      ]
    },
    {
      "cell_type": "code",
      "source": [
        "a=list(input(\"enter the list \"))\n",
        "b=input(\"enter value to update\")\n",
        "c=0\n",
        "for i in range(0,len(a)+1):\n",
        "  if a[i]==b:\n",
        "    a[i]=int(a[i])\n",
        "    c=a[i]**2\n",
        "    c=str(c)\n",
        "    a.insert(i,c)\n",
        "    a.remove(a[i+1])\n",
        "    break\n",
        "print(a)\n",
        "\n"
      ],
      "metadata": {
        "colab": {
          "base_uri": "https://localhost:8080/"
        },
        "id": "BCmKSyTSdngn",
        "outputId": "8a77ad06-42b5-4f8d-8bce-e14fd441fa27"
      },
      "execution_count": null,
      "outputs": [
        {
          "output_type": "stream",
          "name": "stdout",
          "text": [
            "enter the list 5456\n",
            "enter value to update5\n",
            "['25', '4', '5', '6']\n"
          ]
        }
      ]
    },
    {
      "cell_type": "code",
      "source": [
        "a=list(input(\"enter a list\"))\n",
        "b=input(\"enter the value toremove\")\n",
        "for i in a:\n",
        "  if i==b:\n",
        "    a.remove(i)\n",
        "print(a)"
      ],
      "metadata": {
        "colab": {
          "base_uri": "https://localhost:8080/"
        },
        "id": "2Y6QAgujhfm8",
        "outputId": "2d186804-effc-44e2-bc9b-06eeffbb7f93"
      },
      "execution_count": null,
      "outputs": [
        {
          "output_type": "stream",
          "name": "stdout",
          "text": [
            "enter a list5415454\n",
            "enter the value toremove5\n",
            "['4', '1', '4', '4']\n"
          ]
        }
      ]
    },
    {
      "cell_type": "code",
      "source": [
        "a=tuple(input(\"enter value \"))\n",
        "print(a[::-1])"
      ],
      "metadata": {
        "colab": {
          "base_uri": "https://localhost:8080/"
        },
        "id": "PN3ee3RDkcAh",
        "outputId": "914168f1-b9a3-4bfc-b26e-5babd7d22215"
      },
      "execution_count": null,
      "outputs": [
        {
          "output_type": "stream",
          "name": "stdout",
          "text": [
            "enter value 5d4d54d\n",
            "('d', '4', '5', 'd', '4', 'd', '5')\n"
          ]
        }
      ]
    },
    {
      "cell_type": "code",
      "source": [
        "a=tuple(input(\"enter values \"))\n",
        "b=input(\"enter value to check the occurence \")\n",
        "count=0\n",
        "for i in a:\n",
        "  if i==b:\n",
        "    count+=1\n",
        "print(count)\n"
      ],
      "metadata": {
        "colab": {
          "base_uri": "https://localhost:8080/"
        },
        "id": "QCErnboElODW",
        "outputId": "a62df785-675e-45e3-8aef-fb248fbf24a0"
      },
      "execution_count": null,
      "outputs": [
        {
          "output_type": "stream",
          "name": "stdout",
          "text": [
            "enter values 5d4d5d4d\n",
            "enter value to check the occurence d\n",
            "4\n"
          ]
        }
      ]
    },
    {
      "cell_type": "code",
      "source": [
        "a=tuple(input(\"enter values \"))\n",
        "for i in a:\n",
        "  print(i)"
      ],
      "metadata": {
        "colab": {
          "base_uri": "https://localhost:8080/"
        },
        "id": "HgzEcjQ1mZxp",
        "outputId": "b228cca1-5838-4421-f645-208ce6aa58c5"
      },
      "execution_count": null,
      "outputs": [
        {
          "output_type": "stream",
          "name": "stdout",
          "text": [
            "enter values 54hg\n",
            "5\n",
            "4\n",
            "h\n",
            "g\n"
          ]
        }
      ]
    },
    {
      "cell_type": "code",
      "source": [
        "a=tuple(input(\"enter the value \"))\n",
        "b=tuple(input(\"enter the value \"))\n",
        "a=list(a)\n",
        "b=list(b)\n",
        "c=[]\n",
        "for i in range(0,len(a)):\n",
        "  a[i]=int(a[i])\n",
        "  b[i]=int(b[i])\n",
        "  c.append(a[i]+b[i])\n",
        "c=tuple(c)\n",
        "print(c)\n",
        "  "
      ],
      "metadata": {
        "colab": {
          "base_uri": "https://localhost:8080/"
        },
        "id": "G8aQZPTqmqAi",
        "outputId": "1ec688ef-b037-4cd9-f5df-1c799d5b52cb"
      },
      "execution_count": null,
      "outputs": [
        {
          "output_type": "stream",
          "name": "stdout",
          "text": [
            "enter the value 123\n",
            "enter the value 456\n",
            "(5, 7, 9)\n"
          ]
        }
      ]
    },
    {
      "cell_type": "code",
      "source": [
        "a=tuple(input(\"enter value\"))\n",
        "b=tuple(input(\"enter value\"))\n",
        "c={a[i]:b[i] for i in range(0,len(a))}\n",
        "print(c)"
      ],
      "metadata": {
        "colab": {
          "base_uri": "https://localhost:8080/"
        },
        "id": "65Ay_xGP6nf6",
        "outputId": "851427f3-e517-482b-938c-c13e71f1c4e8"
      },
      "execution_count": null,
      "outputs": [
        {
          "output_type": "stream",
          "name": "stdout",
          "text": [
            "enter value123\n",
            "enter value456\n",
            "{'1': '4', '2': '5', '3': '6'}\n"
          ]
        }
      ]
    },
    {
      "cell_type": "code",
      "source": [
        "a=set(input(\"enter the value :\"))\n",
        "b=input(\"enter value to remove \")\n",
        "for i in a:\n",
        "  if i ==b:\n",
        "    a.remove(i)\n",
        "    break\n",
        "print(a)"
      ],
      "metadata": {
        "colab": {
          "base_uri": "https://localhost:8080/"
        },
        "id": "hwmTfayCEGB8",
        "outputId": "5eb357c2-606f-4e00-aeed-563841f8a7e8"
      },
      "execution_count": null,
      "outputs": [
        {
          "output_type": "stream",
          "name": "stdout",
          "text": [
            "enter the value :4566316\n",
            "enter value to remove 6\n",
            "{'3', '1', '4', '5'}\n"
          ]
        }
      ]
    },
    {
      "cell_type": "code",
      "source": [
        "a=set(input(\"enter value\"))\n",
        "b=set(input(\"enter value\"))\n",
        "print(a.intersection(b))"
      ],
      "metadata": {
        "colab": {
          "base_uri": "https://localhost:8080/"
        },
        "id": "u4QbWP80CE65",
        "outputId": "0c3e4701-0948-4aba-8f40-24d448ab55e1"
      },
      "execution_count": null,
      "outputs": [
        {
          "output_type": "stream",
          "name": "stdout",
          "text": [
            "enter value12545\n",
            "enter value1254521\n",
            "{'2', '5', '4', '1'}\n"
          ]
        }
      ]
    },
    {
      "cell_type": "code",
      "source": [
        "a=set(input(\"enter value \"))\n",
        "for i in a:\n",
        "  for j in a:\n",
        "    if i>j:\n",
        "      max=i\n",
        "      min=j\n",
        "print(\"max value= \",max,\"min value = \",min)"
      ],
      "metadata": {
        "colab": {
          "base_uri": "https://localhost:8080/"
        },
        "id": "uQA3iKmhCjN9",
        "outputId": "e9c1a72e-42b6-4a56-8e7e-6903c44bd3c7"
      },
      "execution_count": null,
      "outputs": [
        {
          "output_type": "stream",
          "name": "stdout",
          "text": [
            "enter value 123456789\n",
            "max value=  5 min value =  1\n"
          ]
        }
      ]
    },
    {
      "cell_type": "code",
      "source": [
        "a=set(input(\"enter a number \"))\n",
        "b=set(input(\"enter a number \"))\n",
        "c=len(a.intersection(b))\n",
        "if(c > 0):\n",
        "  print(\"elements in common\")\n",
        "else:\n",
        "  print(\"no elements in common\")"
      ],
      "metadata": {
        "colab": {
          "base_uri": "https://localhost:8080/"
        },
        "id": "-fT-iWjhD86i",
        "outputId": "e0d79ea9-a74b-4b85-890c-fed50690f65b"
      },
      "execution_count": null,
      "outputs": [
        {
          "output_type": "stream",
          "name": "stdout",
          "text": [
            "enter a number 123\n",
            "enter a number 345\n",
            "elements in common\n"
          ]
        }
      ]
    },
    {
      "cell_type": "code",
      "source": [
        "myDict = {'ravi': 10, 'rajnish': 9,\n",
        "\t\t'sanjeev': 15, 'yash': 2, 'suraj': 32}\n",
        "print(myDict['ravi'])\n",
        "myKeys = list(myDict.keys())\n",
        "myKeys.sort()\n",
        "sorted_dict = {i: myDict[i] for i in myKeys}\n",
        "\n",
        "print(sorted_dict)\n"
      ],
      "metadata": {
        "id": "-4X9EYGcR8xF",
        "colab": {
          "base_uri": "https://localhost:8080/"
        },
        "outputId": "7e63a6bd-e4b9-4c91-f89f-75ad1145ff35"
      },
      "execution_count": null,
      "outputs": [
        {
          "output_type": "stream",
          "name": "stdout",
          "text": [
            "10\n",
            "{'rajnish': 9, 'ravi': 10, 'sanjeev': 15, 'suraj': 32, 'yash': 2}\n"
          ]
        }
      ]
    },
    {
      "cell_type": "code",
      "source": [
        "a=dict({i:i**2 for i in range(1,11)})\n",
        "print(a)"
      ],
      "metadata": {
        "colab": {
          "base_uri": "https://localhost:8080/"
        },
        "id": "gwm4ysVXF6v6",
        "outputId": "22a39076-e7f5-415a-acd2-21e6c36e6dc7"
      },
      "execution_count": null,
      "outputs": [
        {
          "output_type": "stream",
          "name": "stdout",
          "text": [
            "{1: 1, 2: 4, 3: 9, 4: 16, 5: 25, 6: 36, 7: 49, 8: 64, 9: 81, 10: 100}\n"
          ]
        }
      ]
    },
    {
      "cell_type": "code",
      "source": [
        "a={'a':1,'a':1,'b':2,'c':3}\n",
        "print(a)"
      ],
      "metadata": {
        "colab": {
          "base_uri": "https://localhost:8080/"
        },
        "id": "oZsuvOfqGs26",
        "outputId": "610299d0-32eb-436b-9e2d-559f07055034"
      },
      "execution_count": null,
      "outputs": [
        {
          "output_type": "stream",
          "name": "stdout",
          "text": [
            "{'a': 1, 'b': 2, 'c': 3}\n"
          ]
        }
      ]
    },
    {
      "cell_type": "code",
      "source": [
        "a=str(input(\"enter the string \"))\n",
        "a=list(a)\n",
        "b={a[i]: i for i in range(0,len(a))}\n",
        "print(b)"
      ],
      "metadata": {
        "colab": {
          "base_uri": "https://localhost:8080/"
        },
        "id": "9szc_MjkHTZg",
        "outputId": "42896daf-afae-4fe0-8934-194b3a0eaaad"
      },
      "execution_count": null,
      "outputs": [
        {
          "output_type": "stream",
          "name": "stdout",
          "text": [
            "enter the string act\n",
            "{'a': 0, 'c': 1, 't': 2}\n"
          ]
        }
      ]
    },
    {
      "cell_type": "code",
      "source": [],
      "metadata": {
        "id": "4bY02JkyF6Ft"
      },
      "execution_count": null,
      "outputs": []
    }
  ]
}
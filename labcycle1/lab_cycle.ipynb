{
  "cells": [
    {
      "cell_type": "markdown",
      "metadata": {
        "id": "WQO9v4ZSSMqQ"
      },
      "source": [
        "Develop a program to read a four-digit number and find its\n",
        "\n",
        "a. Sum of digits  \n",
        "b. Reverse                                                     \n",
        "c. Difference between the product of digits at the odd position\n",
        "and the product of digits at the even position.\n"
      ]
    },
    {
      "cell_type": "code",
      "execution_count": null,
      "metadata": {
        "colab": {
          "base_uri": "https://localhost:8080/"
        },
        "id": "0EfdWKiTRJO1",
        "outputId": "688391f8-90d2-41c6-cea7-17f7b14e0e22"
      },
      "outputs": [
        {
          "output_type": "stream",
          "name": "stdout",
          "text": [
            "enter a number1234\n",
            "sum of the digit is : 10\n",
            "reverse of number is : 4321\n",
            "difference is : 5\n"
          ]
        }
      ],
      "source": [
        "\n",
        "def check_num(n):  #function to check number is a four digit or not\n",
        "  x=n\n",
        "  count=0\n",
        "  while x>0:\n",
        "    count=count+1\n",
        "    x=x//10\n",
        "  return count\n",
        "\n",
        "\n",
        "def s_digit(n):   #function for sum of digits\n",
        "  x=n\n",
        "  sum=0\n",
        "  while x>0:\n",
        "    reminder=x%10\n",
        "    sum=sum+reminder\n",
        "    x=x//10\n",
        "  return sum\n",
        "\n",
        "\n",
        "def r_number(n):   #function to reverse\n",
        "  x=n\n",
        "  reverse=0\n",
        "  while x>0:\n",
        "    reminder=x%10\n",
        "    reverse=reverse*10+reminder\n",
        "    x=x//10\n",
        "  return reverse\n",
        "\n",
        "\n",
        "def digit_difference(n):    #function for difference\n",
        "  x=n\n",
        "  eproduct=1\n",
        "  oproduct=1\n",
        "  while x>0:\n",
        "    remi=x%10\n",
        "    x=x//10\n",
        "    if remi%2==0:\n",
        "      eproduct=eproduct*remi\n",
        "    else:\n",
        "      oproduct=oproduct*remi\n",
        "      \n",
        "  diff=eproduct-oproduct\n",
        "  return diff\n",
        "\n",
        "index=int(input(\"enter a number\"))\n",
        "check=check_num(index)\n",
        "sum=s_digit(index)\n",
        "reverse=r_number(index)\n",
        "diff=digit_difference(index)\n",
        "if check==4:\n",
        "  print(\"sum of the digit is :\",sum)\n",
        "  print(\"reverse of number is :\",reverse)\n",
        "  print(\"difference is :\",diff)\n",
        "else:\n",
        "  print(\"invalid\")\n",
        "\n",
        "\n",
        "\n",
        "\n",
        "\n",
        "\n"
      ]
    },
    {
      "cell_type": "markdown",
      "metadata": {
        "id": "jtZO-6T-alJD"
      },
      "source": [
        "Develop a program to read the three sides of two triangles and      \n",
        "calculate the area of both. Define a function to read the three sides   \n",
        "and call it. Also, define a function to calculate the area. Print the total   \n",
        "area enclosed by both triangles and each triangle's contribution (%) \n",
        "towards it."
      ]
    },
    {
      "cell_type": "code",
      "execution_count": null,
      "metadata": {
        "colab": {
          "base_uri": "https://localhost:8080/"
        },
        "id": "hsCcossxakUE",
        "outputId": "647da0bd-1c5e-40ab-e701-040fd1718a83"
      },
      "outputs": [
        {
          "output_type": "stream",
          "name": "stdout",
          "text": [
            "enter side = 15\n",
            "enter side = 26\n",
            "enter side = 38\n",
            "enter area of second triangle\n",
            "enter side = 16\n",
            "enter side = 28\n",
            "enter side = 34\n",
            "area of triangle one =  139.98906207272051\n",
            "area of triangle two =  222.11483516415558\n",
            "total area  =  362.1038972368761\n",
            "%contribution  of first triangle =  38.6599158807574\n",
            "%contribution  of second triangle =  61.340084119242604\n"
          ]
        }
      ],
      "source": [
        "import math\n",
        "\n",
        "def get_side():  #to get side\n",
        "  a=int(input(\"enter side = \"))\n",
        "  b=int(input(\"enter side = \"))\n",
        "  c=int(input(\"enter side = \"))\n",
        "  return a,b,c\n",
        "\n",
        "\n",
        "\n",
        "def a_triangle(a, b, c):  # calculate the area\n",
        "  s=(a+b+c)/2\n",
        "  area = math.sqrt((s*(s-a)*(s-b)*(s-c)))\n",
        "  return area\n",
        "\n",
        "  \n",
        "def t_area(a,b):   #total area\n",
        "  tarea=a+b\n",
        "  return tarea\n",
        "\n",
        "def p_contribution(a,b):  #percentile contribution\n",
        "  pcontribution=(100*a)/b\n",
        "  return pcontribution\n",
        "\n",
        "\n",
        "a1,b1,c1=get_side()\n",
        "area1=a_triangle(a1,b1,c1)\n",
        "print(\"enter area of second triangle\")\n",
        "a2,b2,c2=get_side()\n",
        "area2=a_triangle(a2,b2,c2)\n",
        "totalarea=t_area(area1,area2)\n",
        "pcontribution1=p_contribution(area1,totalarea)\n",
        "pcontribution2=p_contribution(area2,totalarea)\n",
        "print(\"area of triangle one = \",area1)\n",
        "print(\"area of triangle two = \",area2)\n",
        "print(\"total area  = \",totalarea)\n",
        "print(\"%contribution  of first triangle = \",pcontribution1)\n",
        "print(\"%contribution  of second triangle = \",pcontribution2)\n",
        "\n",
        "\n",
        "\n"
      ]
    },
    {
      "cell_type": "markdown",
      "metadata": {
        "id": "fSkuKHjtEeQw"
      },
      "source": [
        "Develop a program to read the employee's name, code, and basic pay   \n",
        "and calculate the gross salary, deduction, and net salary according to   \n",
        "the following conditions. Define a function to find each of the   \n",
        "components. Finally, generate a payslip."
      ]
    },
    {
      "cell_type": "code",
      "execution_count": null,
      "metadata": {
        "colab": {
          "base_uri": "https://localhost:8080/"
        },
        "id": "PZGOXlbsEkRH",
        "outputId": "e12538c7-bd1b-4a57-c9ed-e55497c808a9"
      },
      "outputs": [
        {
          "name": "stdout",
          "output_type": "stream",
          "text": [
            "enter  name : adithyan\n",
            "enter code  : 1\n",
            "enter basic pay : 10000000\n",
            "\n",
            "\n",
            "\t\t name of employ :  adithyan\n",
            "\t\t code of employ :  1.0\n",
            "\t\t basic pay =  10000000.0\n",
            "\t\t____________________________\n",
            "\n",
            "\t\t Gross salary =  10007036.0\n",
            "\t\t Deduction =  112\n",
            "\t\t netsalary =  10006924.0\n"
          ]
        }
      ],
      "source": [
        "#to get details\n",
        "def get_data():\n",
        "  name=str(input(\"enter  name : \"))\n",
        "  code=float(input(\"enter code  : \"))\n",
        "  bp=float(input(\"enter basic pay : \"))\n",
        "  return name,code,bp\n",
        "\n",
        "name,code,bp=get_data()\n",
        "#condition\n",
        "if bp<10000:\n",
        "  da=5\n",
        "  hra=2.5\n",
        "  ma=500\n",
        "  pt=20\n",
        "  pf=8\n",
        "  it=0\n",
        "elif bp<30000:\n",
        "  da=7.5\n",
        "  hra=5\n",
        "  ma=2500\n",
        "  pt=60\n",
        "  pf=8\n",
        "  it=0\n",
        "elif bp<50000:\n",
        "  da=11\n",
        "  hra=7.5\n",
        "  ma=5000\n",
        "  pt=60\n",
        "  pf=11\n",
        "  it=11\n",
        "else:\n",
        "  da=25\n",
        "  hra=11\n",
        "  ma=7000\n",
        "  pt=80\n",
        "  pf=12\n",
        "  it=20\n",
        "\n",
        "\n",
        "gs=bp+da+hra+ma \n",
        "d=pt+pf+it \n",
        "netsalary = gs-d\n",
        "\n",
        "print(\"\\n\\n\\t\\t name of employ : \" ,name)\n",
        "print(\"\\t\\t code of employ : \",code)\n",
        "print(\"\\t\\t basic pay = \",bp)\n",
        "print(\"\\t\\t____________________________\")\n",
        "print(\"\\n\\t\\t Gross salary = \",gs)\n",
        "print(\"\\t\\t Deduction = \",d)\n",
        "print(\"\\t\\t netsalary = \",netsalary)\n",
        "\n",
        "\n",
        "\n",
        "\n",
        " \n"
      ]
    },
    {
      "cell_type": "markdown",
      "metadata": {
        "id": "S7Fwxnpq2Ful"
      },
      "source": [
        "4. Develop a program to perform the following task:  \n",
        "a. Define a function to check whether a number is happy or not.  \n",
        "b. Define a function to print all happy numbers within a range.  \n",
        "c. Define a function to print first N happy numbers."
      ]
    },
    {
      "cell_type": "code",
      "execution_count": null,
      "metadata": {
        "colab": {
          "base_uri": "https://localhost:8080/"
        },
        "id": "wUpnzB39MQfR",
        "outputId": "13972280-1a85-46c5-fdb3-842543427772"
      },
      "outputs": [
        {
          "output_type": "stream",
          "name": "stdout",
          "text": [
            "enter a number : 7\n",
            "7 is a happy number\n",
            "\n",
            "\n",
            " enter upper limt : 10\n",
            "enter lower limit : 1\n",
            "1 happy number\n",
            "\n",
            "\n",
            " enter a range14\n",
            "1\n",
            "7\n",
            "10\n",
            "13\n",
            "19\n",
            "23\n",
            "28\n",
            "31\n",
            "32\n",
            "44\n",
            "49\n",
            "68\n",
            "70\n",
            "79\n"
          ]
        }
      ],
      "source": [
        "#function to check a  number is happy or not\n",
        "def c_happy(a):\n",
        "  for i in range(1,102):\n",
        "   sum=0\n",
        "   while a>0:\n",
        "     sum+=(a%10)**2\n",
        "     a=a//10\n",
        "   a=sum\n",
        "  return sum\n",
        "  \n",
        "\n",
        "#range for happy number\n",
        "def h_range(a,b):\n",
        "  for i in range(a,b+1):\n",
        "    b=c_happy(i)\n",
        "    if b==1:\n",
        "      print(i,\"happy number\")\n",
        "    return b\n",
        "  \n",
        "\n",
        "#print first n happy number\n",
        "def n_happynumber(a):\n",
        "  i=1\n",
        "  while a>0:\n",
        "    b=c_happy(i)\n",
        "    if b==1:\n",
        "      print(i)\n",
        "      a=a-1\n",
        "    i=i+1\n",
        "\n",
        "\n",
        "\n",
        "\n",
        "n=int(input(\"enter a number : \"))\n",
        "b=c_happy(n)\n",
        "if b==1:\n",
        "  print(n,\"is a happy number\")\n",
        "else:\n",
        "  print(n,\"is a unhappy number\")\n",
        "\n",
        "\n",
        "ul=int(input(\"\\n\\n enter upper limt : \"))\n",
        "ll=int(input(\"enter lower limit : \"))\n",
        "c=h_range(ll,ul)\n",
        "\n",
        "\n",
        "n2=int(input(\"\\n\\n enter a range\"))\n",
        "d=n_happynumber(n2)"
      ]
    },
    {
      "cell_type": "markdown",
      "metadata": {
        "id": "V0FrkOr02V1B"
      },
      "source": [
        "Develop a program to read a string and perform the following \n",
        "operations:    \n",
        "• Print all possible substrings.   \n",
        "• Print all possible substrings of length K.  \n",
        "• Print all possible substrings of length K with N distinct characters.  \n",
        "• Print substring(s) of length maximum length with N distinct \n",
        "characters.  \n",
        "• Print all palindrome substrings.\n",
        "Define function for each of the task"
      ]
    },
    {
      "cell_type": "code",
      "execution_count": null,
      "metadata": {
        "colab": {
          "base_uri": "https://localhost:8080/"
        },
        "id": "4s_zVwLbNtJI",
        "outputId": "8baea3b7-5fb0-42ed-a531-b7f8de97f3b2"
      },
      "outputs": [
        {
          "output_type": "stream",
          "name": "stdout",
          "text": [
            "enter a name : appu\n",
            "________________________________________________________________________\n",
            "\t substring of appu is : \n",
            "a\n",
            "ap\n",
            "app\n",
            "appu\n",
            "p\n",
            "pp\n",
            "ppu\n",
            "p\n",
            "pu\n",
            "u\n",
            "________________________________________________________________________\n",
            "\t possible substring of length k is : \n",
            "enter a range : 5\n",
            " \t possible substrings of length K with N distinct characters is : \n",
            "enter a range : 2\n",
            "enter how many term : 1\n",
            "pp \n",
            " ________________________________________________________________________\n",
            "\t substring of length maximum length with N distinct characters is\n",
            "how many discreate term : 3\n",
            "there no substring with  3 discreate character of max length\n",
            "\n",
            " ________________________________________________________________________\n",
            "\t paliondrome of string is : \n",
            "not palindrom\n"
          ]
        }
      ],
      "source": [
        "from traitlets.config import keyvalue_description\n",
        "#read a string\n",
        "def r_string():\n",
        "  n=str(input(\"enter a name : \"))\n",
        "  return n\n",
        "\n",
        "#print possible substring\n",
        "def s_string(a):\n",
        "  n=len(a)\n",
        "  for i in range(n+1):\n",
        "    for j in range(i+1,n+1):\n",
        "      print(a[i:j])\n",
        "\n",
        "#print all posiible substring of length k\n",
        "\n",
        "\n",
        "def l_substring(a):\n",
        "  n=len(a)\n",
        "  k=int(input(\"enter a range : \"))\n",
        "  for i in range(0,n):\n",
        "    for j in range(k,n+1):\n",
        "      if len(a[i:j])==k:\n",
        "        print(a[i:j])\n",
        "\n",
        "\n",
        "#print all possible substring of length k with n distinct character\n",
        "\n",
        "\n",
        "def l2_substring(a):\n",
        "  count=0\n",
        "  k=int(input(\"enter a range : \"))\n",
        "  term=int(input(\"enter how many term : \"))\n",
        "  for i in range(len(a)+1):\n",
        "    for j in range(len(a)+1):\n",
        "        if len(a[i:j])==k:\n",
        "           sets=set(a[i:j])              \n",
        "           if len(sets)==term:\n",
        "             print(a[i:j],end=\" \")\n",
        "             count=1\n",
        "  if count==0:\n",
        "    print(\"There no substrings with \",term,\" distinct characters in \",k,\"length substring\")\n",
        "  \n",
        "\n",
        "\n",
        "#Print substring(s) of length maximum length with N distinct characters\n",
        "def subset_max_ndistinctcharacter(a):\n",
        "  count=0\n",
        "  string=[]\n",
        "  term=int(input(\"how many discreate term : \"))\n",
        "  for i in range(len(a)+1):\n",
        "     for j in range(i+1,len(a)+1):\n",
        "       sets=set(a[i:j])              \n",
        "       if len(sets)==term:\n",
        "         string.append(a[i:j])\n",
        "  for i in range(len(string)):\n",
        "    if len(string[i])>len(string[-1]):\n",
        "      print(string[i],end=\" \")\n",
        "      count=1\n",
        "  if count==0:\n",
        "    print(\"there no substring with \",term,\"discreate character of max length\") \n",
        "\n",
        "\n",
        "#palindrome of a string\n",
        "def paliondrome(a):\n",
        "  n=len(a)\n",
        "  for i in range(n+1):\n",
        "    for j in range(i+1,n+1):\n",
        "      b=a[-i::-j]\n",
        "  if a==b:\n",
        "    print(\"palindrom\")\n",
        "  else:\n",
        "    print(\"not palindrom\")\n",
        "\n",
        "a=r_string()\n",
        "print(\"________________________________________________________________________\")\n",
        "print(\"\\t substring of\",a , \"is : \")\n",
        "s_string(a)  \n",
        "print(\"________________________________________________________________________\")\n",
        "print(\"\\t possible substring of length k is : \")\n",
        "l_substring(a)\n",
        "print(\" \\t possible substrings of length K with N distinct characters is : \")\n",
        "l2_substring(a)\n",
        "print(\"\\n ________________________________________________________________________\")\n",
        "print(\"\\t substring of length maximum length with N distinct characters is\")    \n",
        "subset_max_ndistinctcharacter(a)\n",
        "print(\"\\n ________________________________________________________________________\")\n",
        "print(\"\\t paliondrome of string is : \")\n",
        "paliondrome(a)\n",
        "\n",
        "\n"
      ]
    }
  ],
  "metadata": {
    "colab": {
      "provenance": []
    },
    "kernelspec": {
      "display_name": "Python 3",
      "name": "python3"
    },
    "language_info": {
      "name": "python"
    }
  },
  "nbformat": 4,
  "nbformat_minor": 0
}